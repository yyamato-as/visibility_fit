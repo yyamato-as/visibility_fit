{
 "cells": [
  {
   "cell_type": "code",
   "execution_count": 1,
   "metadata": {},
   "outputs": [
    {
     "ename": "ImportError",
     "evalue": "/home/yamato/.cache/pypoetry/virtualenvs/visibility-fit-NNZ9635L-py3.8/src/galario/build/temp.linux-x86_64-3.8/src/libgalario_single.so: undefined symbol: fftwf_alloc_real",
     "output_type": "error",
     "traceback": [
      "\u001b[0;31m---------------------------------------------------------------------------\u001b[0m",
      "\u001b[0;31mImportError\u001b[0m                               Traceback (most recent call last)",
      "\u001b[1;32m/home/yamato/Project/visibility_fit/example.ipynb Cell 1'\u001b[0m in \u001b[0;36m<cell line: 3>\u001b[0;34m()\u001b[0m\n\u001b[1;32m      <a href='vscode-notebook-cell://ssh-remote%2Bori/home/yamato/Project/visibility_fit/example.ipynb#ch0000000vscode-remote?line=0'>1</a>\u001b[0m \u001b[39mimport\u001b[39;00m \u001b[39mnumpy\u001b[39;00m \u001b[39mas\u001b[39;00m \u001b[39mnp\u001b[39;00m\n\u001b[1;32m      <a href='vscode-notebook-cell://ssh-remote%2Bori/home/yamato/Project/visibility_fit/example.ipynb#ch0000000vscode-remote?line=1'>2</a>\u001b[0m \u001b[39mfrom\u001b[39;00m \u001b[39mimageanalysis_utils\u001b[39;00m \u001b[39mimport\u001b[39;00m Gaussian1d, GaussianRing1d\n\u001b[0;32m----> <a href='vscode-notebook-cell://ssh-remote%2Bori/home/yamato/Project/visibility_fit/example.ipynb#ch0000000vscode-remote?line=2'>3</a>\u001b[0m \u001b[39mfrom\u001b[39;00m \u001b[39muvanalysis_utils\u001b[39;00m \u001b[39mimport\u001b[39;00m plot_uv, set_grid, deproject_vis, bin_vis\n\u001b[1;32m      <a href='vscode-notebook-cell://ssh-remote%2Bori/home/yamato/Project/visibility_fit/example.ipynb#ch0000000vscode-remote?line=3'>4</a>\u001b[0m \u001b[39mfrom\u001b[39;00m \u001b[39mgalario\u001b[39;00m\u001b[39m.\u001b[39;00m\u001b[39mdouble\u001b[39;00m \u001b[39mimport\u001b[39;00m sampleProfile\n\u001b[1;32m      <a href='vscode-notebook-cell://ssh-remote%2Bori/home/yamato/Project/visibility_fit/example.ipynb#ch0000000vscode-remote?line=5'>6</a>\u001b[0m pi \u001b[39m=\u001b[39m np\u001b[39m.\u001b[39mpi\n",
      "File \u001b[0;32m~/Project/visibility_fit/uvanalysis_utils.py:4\u001b[0m, in \u001b[0;36m<module>\u001b[0;34m\u001b[0m\n\u001b[1;32m      <a href='file:///home/yamato/Project/visibility_fit/uvanalysis_utils.py?line=0'>1</a>\u001b[0m \u001b[39m### visibility manipulation/analysis relevant ###\u001b[39;00m\n\u001b[1;32m      <a href='file:///home/yamato/Project/visibility_fit/uvanalysis_utils.py?line=2'>3</a>\u001b[0m \u001b[39mimport\u001b[39;00m \u001b[39mnumpy\u001b[39;00m \u001b[39mas\u001b[39;00m \u001b[39mnp\u001b[39;00m\n\u001b[0;32m----> <a href='file:///home/yamato/Project/visibility_fit/uvanalysis_utils.py?line=3'>4</a>\u001b[0m \u001b[39mfrom\u001b[39;00m \u001b[39mgalario\u001b[39;00m\u001b[39m.\u001b[39;00m\u001b[39mdouble\u001b[39;00m \u001b[39mimport\u001b[39;00m get_image_size\n\u001b[1;32m      <a href='file:///home/yamato/Project/visibility_fit/uvanalysis_utils.py?line=4'>5</a>\u001b[0m \u001b[39mimport\u001b[39;00m \u001b[39mmatplotlib\u001b[39;00m\u001b[39m.\u001b[39;00m\u001b[39mpyplot\u001b[39;00m \u001b[39mas\u001b[39;00m \u001b[39mplt\u001b[39;00m\n\u001b[1;32m      <a href='file:///home/yamato/Project/visibility_fit/uvanalysis_utils.py?line=5'>6</a>\u001b[0m \u001b[39mfrom\u001b[39;00m \u001b[39mscipy\u001b[39;00m \u001b[39mimport\u001b[39;00m stats\n",
      "File \u001b[0;32m~/.cache/pypoetry/virtualenvs/visibility-fit-NNZ9635L-py3.8/lib/python3.8/site-packages/galario/__init__.py:28\u001b[0m, in \u001b[0;36m<module>\u001b[0;34m\u001b[0m\n\u001b[1;32m     <a href='file:///home/yamato/.cache/pypoetry/virtualenvs/visibility-fit-NNZ9635L-py3.8/lib/python3.8/site-packages/galario/__init__.py?line=24'>25</a>\u001b[0m     \u001b[39mfrom\u001b[39;00m \u001b[39m.\u001b[39;00m \u001b[39mimport\u001b[39;00m single_cuda\n\u001b[1;32m     <a href='file:///home/yamato/.cache/pypoetry/virtualenvs/visibility-fit-NNZ9635L-py3.8/lib/python3.8/site-packages/galario/__init__.py?line=25'>26</a>\u001b[0m     \u001b[39mfrom\u001b[39;00m \u001b[39m.\u001b[39;00m \u001b[39mimport\u001b[39;00m double_cuda\n\u001b[0;32m---> <a href='file:///home/yamato/.cache/pypoetry/virtualenvs/visibility-fit-NNZ9635L-py3.8/lib/python3.8/site-packages/galario/__init__.py?line=27'>28</a>\u001b[0m \u001b[39mfrom\u001b[39;00m \u001b[39m.\u001b[39;00m \u001b[39mimport\u001b[39;00m single\n\u001b[1;32m     <a href='file:///home/yamato/.cache/pypoetry/virtualenvs/visibility-fit-NNZ9635L-py3.8/lib/python3.8/site-packages/galario/__init__.py?line=28'>29</a>\u001b[0m \u001b[39mfrom\u001b[39;00m \u001b[39m.\u001b[39;00m \u001b[39mimport\u001b[39;00m double\n\u001b[1;32m     <a href='file:///home/yamato/.cache/pypoetry/virtualenvs/visibility-fit-NNZ9635L-py3.8/lib/python3.8/site-packages/galario/__init__.py?line=30'>31</a>\u001b[0m \u001b[39mfrom\u001b[39;00m \u001b[39m.\u001b[39;00m\u001b[39mdouble\u001b[39;00m \u001b[39mimport\u001b[39;00m arcsec, au, cgs_to_Jy, pc, deg\n",
      "File \u001b[0;32m~/.cache/pypoetry/virtualenvs/visibility-fit-NNZ9635L-py3.8/lib/python3.8/site-packages/galario/single/__init__.py:20\u001b[0m, in \u001b[0;36m<module>\u001b[0;34m\u001b[0m\n\u001b[1;32m      <a href='file:///home/yamato/.cache/pypoetry/virtualenvs/visibility-fit-NNZ9635L-py3.8/lib/python3.8/site-packages/galario/single/__init__.py?line=0'>1</a>\u001b[0m \u001b[39m###############################################################################\u001b[39;00m\n\u001b[1;32m      <a href='file:///home/yamato/.cache/pypoetry/virtualenvs/visibility-fit-NNZ9635L-py3.8/lib/python3.8/site-packages/galario/single/__init__.py?line=1'>2</a>\u001b[0m \u001b[39m# This file is part of GALARIO:                                               #\u001b[39;00m\n\u001b[1;32m      <a href='file:///home/yamato/.cache/pypoetry/virtualenvs/visibility-fit-NNZ9635L-py3.8/lib/python3.8/site-packages/galario/single/__init__.py?line=2'>3</a>\u001b[0m \u001b[39m# Gpu Accelerated Library for Analysing Radio Interferometer Observations     #\u001b[39;00m\n\u001b[0;32m   (...)\u001b[0m\n\u001b[1;32m     <a href='file:///home/yamato/.cache/pypoetry/virtualenvs/visibility-fit-NNZ9635L-py3.8/lib/python3.8/site-packages/galario/single/__init__.py?line=16'>17</a>\u001b[0m \u001b[39m# For documentation see https://mtazzari.github.io/galario/                   #\u001b[39;00m\n\u001b[1;32m     <a href='file:///home/yamato/.cache/pypoetry/virtualenvs/visibility-fit-NNZ9635L-py3.8/lib/python3.8/site-packages/galario/single/__init__.py?line=17'>18</a>\u001b[0m \u001b[39m###############################################################################\u001b[39;00m\n\u001b[0;32m---> <a href='file:///home/yamato/.cache/pypoetry/virtualenvs/visibility-fit-NNZ9635L-py3.8/lib/python3.8/site-packages/galario/single/__init__.py?line=19'>20</a>\u001b[0m \u001b[39mfrom\u001b[39;00m \u001b[39m.\u001b[39;00m\u001b[39mlibcommon\u001b[39;00m \u001b[39mimport\u001b[39;00m \u001b[39m*\u001b[39m\n\u001b[1;32m     <a href='file:///home/yamato/.cache/pypoetry/virtualenvs/visibility-fit-NNZ9635L-py3.8/lib/python3.8/site-packages/galario/single/__init__.py?line=21'>22</a>\u001b[0m _init()\n\u001b[1;32m     <a href='file:///home/yamato/.cache/pypoetry/virtualenvs/visibility-fit-NNZ9635L-py3.8/lib/python3.8/site-packages/galario/single/__init__.py?line=23'>24</a>\u001b[0m \u001b[39mimport\u001b[39;00m \u001b[39matexit\u001b[39;00m\n",
      "\u001b[0;31mImportError\u001b[0m: /home/yamato/.cache/pypoetry/virtualenvs/visibility-fit-NNZ9635L-py3.8/src/galario/build/temp.linux-x86_64-3.8/src/libgalario_single.so: undefined symbol: fftwf_alloc_real"
     ]
    }
   ],
   "source": [
    "import numpy as np\n",
    "from imageanalysis_utils import Gaussian1d, GaussianRing1d\n",
    "from uvanalysis_utils import plot_uv, set_grid, deproject_vis, bin_vis\n",
    "from galario.double import sampleProfile\n",
    "\n",
    "pi = np.pi\n",
    "arcsec = pi / 180.0 / 3600.0  # in rad"
   ]
  },
  {
   "cell_type": "code",
   "execution_count": null,
   "metadata": {},
   "outputs": [],
   "source": [
    "datafilepath = \"/raid/work/yamato/edisk_data/analysis_data/\"\n",
    "uvtabfilename = datafilepath + \"L1489IRS_continuum.uvtab\"\n",
    "visibility = np.loadtxt(uvtabfilename, unpack=True)\n",
    "u, v, real, imag, weight = np.ascontiguousarray(visibility) "
   ]
  },
  {
   "cell_type": "code",
   "execution_count": null,
   "metadata": {},
   "outputs": [],
   "source": [
    "# model function derived from image fit\n",
    "def model_func_1d(r, F_c, sigma_c, r0_r, F_r, sigma_r, F_b, sigma_b):\n",
    "    return Gaussian1d(r, F_c, sigma_c) + GaussianRing1d(r, r0_r, F_r, sigma_r) + Gaussian1d(r, F_b, sigma_b)"
   ]
  },
  {
   "cell_type": "code",
   "execution_count": null,
   "metadata": {},
   "outputs": [],
   "source": [
    "nxy, dxy, r, rmin, dr = set_grid(u, v)\n",
    "\n",
    "model = model_func_1d(\n",
    "    r / arcsec,\n",
    "    9.42140643,\n",
    "    0.03736141,\n",
    "    0.41094978,\n",
    "    8.40042786,\n",
    "    0.23232904,\n",
    "    9.39836001,\n",
    "    1.86108534,\n",
    ")\n",
    "\n",
    "model_V = sampleProfile(\n",
    "    intensity=model,\n",
    "    Rmin=rmin,\n",
    "    dR=dr,\n",
    "    nxy=nxy,\n",
    "    dxy=dxy,\n",
    "    u=u,\n",
    "    v=v,\n",
    "    # PA=np.radians(69),\n",
    "    # inc=np.radians(73),\n",
    "    check=False,\n",
    ")"
   ]
  },
  {
   "cell_type": "code",
   "execution_count": null,
   "metadata": {},
   "outputs": [],
   "source": [
    "# plot observation and model\n",
    "fig = plot_uv(\n",
    "    u,\n",
    "    v,\n",
    "    real,\n",
    "    imag,\n",
    "    weight,\n",
    "    incl=73,\n",
    "    PA=69.0,\n",
    "    uvrange=(0, 3000e3),\n",
    "    binsize=10e3,\n",
    "    fmt=\"o\",\n",
    "    capsize=3,\n",
    "    markersize=5,\n",
    "    zorder=-100,\n",
    ")\n",
    "\n",
    "# deprojection and binning\n",
    "_, _, uvdist_deproj = deproject_vis(u, v,\n",
    "    incl=73, PA=69\n",
    ")\n",
    "\n",
    "uvdist_deproj_binned, real_binned, imag_binned = bin_vis(\n",
    "    uvdist=uvdist_deproj,\n",
    "    real=model_V.real,\n",
    "    imag=model_V.imag,\n",
    "    bins=np.arange(0, 3000e3, 10e3),\n",
    "    weighted_average=False,\n",
    ")\n",
    "\n",
    "for ax, V in zip(fig.axes, [real_binned, imag_binned]):\n",
    "    ax.plot(uvdist_deproj_binned/1e3, V)\n",
    "    ax.grid()\n",
    "\n",
    "\n",
    "fig.axes[0].set(xlim=(0, 3000), ylim=(0, 0.05))\n",
    "fig.axes[1].set(xlim=(0, 3000), ylim=(-0.005, 0.005))\n",
    "for ax in fig.axes:\n",
    "    ax.grid()\n"
   ]
  },
  {
   "cell_type": "code",
   "execution_count": null,
   "metadata": {},
   "outputs": [],
   "source": []
  }
 ],
 "metadata": {
  "interpreter": {
   "hash": "32601f0454a91a11be06b1b17152b68ca929818915d7222a404e4e678eddff49"
  },
  "kernelspec": {
   "display_name": "Python 3.8.12 ('visibility-fit-NNZ9635L-py3.8')",
   "language": "python",
   "name": "python3"
  },
  "language_info": {
   "codemirror_mode": {
    "name": "ipython",
    "version": 3
   },
   "file_extension": ".py",
   "mimetype": "text/x-python",
   "name": "python",
   "nbconvert_exporter": "python",
   "pygments_lexer": "ipython3",
   "version": "3.8.12"
  },
  "orig_nbformat": 4
 },
 "nbformat": 4,
 "nbformat_minor": 2
}
